{
  "nbformat": 4,
  "nbformat_minor": 0,
  "metadata": {
    "colab": {
      "provenance": [],
      "authorship_tag": "ABX9TyPMBYb5YLru8R1miCCbw7Hj",
      "include_colab_link": true
    },
    "kernelspec": {
      "name": "python3",
      "display_name": "Python 3"
    },
    "language_info": {
      "name": "python"
    }
  },
  "cells": [
    {
      "cell_type": "markdown",
      "metadata": {
        "id": "view-in-github",
        "colab_type": "text"
      },
      "source": [
        "<a href=\"https://colab.research.google.com/github/vedantichavan/Mini-Tasks-/blob/main/Pricient_restaurantreview_VedantiChavan.ipynb\" target=\"_parent\"><img src=\"https://colab.research.google.com/assets/colab-badge.svg\" alt=\"Open In Colab\"/></a>"
      ]
    },
    {
      "cell_type": "code",
      "source": [
        "from bs4 import BeautifulSoup\n",
        "import json\n",
        "\n"
      ],
      "metadata": {
        "id": "2eYRE8Fma90b"
      },
      "execution_count": null,
      "outputs": []
    },
    {
      "cell_type": "code",
      "source": [
        "import random\n",
        "from sklearn.tree import DecisionTreeRegressor\n",
        "from sklearn.model_selection import train_test_split\n",
        "from sklearn.metrics import mean_squared_error\n",
        "import numpy as np\n"
      ],
      "metadata": {
        "id": "xlsdYbzqe7Z4"
      },
      "execution_count": null,
      "outputs": []
    },
    {
      "cell_type": "code",
      "source": [
        "\n",
        "# Village restaurant menu\n",
        "village_menu = {\n",
        "    \"Butter Chicken\": 15.99,\n",
        "    \"Palak Paneer\": 12.99,\n",
        "    \"Garlic Naan\": 2.99,\n",
        "    \"Chicken Tikka Masala\": 16.49,\n",
        "}\n",
        "\n",
        "# Competitor menu data\n",
        "competitors_menu = [\n",
        "    {\"name\": \"Restaurant A\", \"menu\": {\"Butter Chicken\": 14.49, \"Palak Paneer\": 13.49, \"Garlic Naan\": 2.79, \"Chicken Tikka Masala\": 15.99}},\n",
        "    {\"name\": \"Restaurant B\", \"menu\": {\"Butter Chicken\": 15.99, \"Palak Paneer\": 11.99, \"Garlic Naan\": 2.69, \"Chicken Tikka Masala\": 17.49}},\n",
        "    {\"name\": \"Restaurant C\", \"menu\": {\"Butter Chicken\": 16.99, \"Palak Paneer\": 12.49, \"Garlic Naan\": 2.89, \"Chicken Tikka Masala\": 18.49}},\n",
        "]\n"
      ],
      "metadata": {
        "id": "YdZxRmgHfKCT"
      },
      "execution_count": null,
      "outputs": []
    },
    {
      "cell_type": "code",
      "source": [
        "\n",
        "# Part 1 - Find the lowest price for each item\n",
        "def get_lowest_prices(village_menu, competitors_menu):\n",
        "    lowest_prices = {}\n",
        "    for item in village_menu:\n",
        "        # Get lowest price from competitors for each item\n",
        "        lowest_price = min(\n",
        "            restaurant[\"menu\"].get(item, float('inf'))\n",
        "            for restaurant in competitors_menu\n",
        "        )\n",
        "        lowest_prices[item] = lowest_price\n",
        "    return lowest_prices\n",
        "\n",
        "# Part 2 - Adjust prices based on busy times and weather\n",
        "def adjust_prices_based_on_conditions(menu, lowest_prices, is_busy, temperature, weather_condition):\n",
        "    adjusted_prices = {}\n",
        "    for item, base_price in menu.items():\n",
        "        # Adjust conditions\n",
        "        is_cold = temperature < 45\n",
        "        is_bad_weather = weather_condition in [\"Rain\", \"Snow\"]\n",
        "\n",
        "        if is_busy or is_cold or is_bad_weather:\n",
        "            # Higher price if conditions are met\n",
        "            adjusted_prices[item] = lowest_prices[item] * 1.2  # 20% markup\n",
        "        else:\n",
        "            # Set to lowest competitive price\n",
        "            adjusted_prices[item] = lowest_prices[item]\n",
        "    return adjusted_prices\n"
      ],
      "metadata": {
        "id": "ZkxcZjvkfKFt"
      },
      "execution_count": null,
      "outputs": []
    },
    {
      "cell_type": "code",
      "source": [
        "\n",
        "# Simulated weather data and busyness\n",
        "def simulate_conditions():\n",
        "    temperature = random.randint(30, 80)  # Random temperature in Fahrenheit\n",
        "    weather_condition = random.choice([\"Clear\", \"Rain\", \"Snow\"])  # Random weather\n",
        "    is_busy = random.choice([True, False])  # Random busy state\n",
        "    return temperature, weather_condition, is_busy\n",
        "\n",
        "# Part 3 - Machine Learning Pricing Prediction\n",
        "def train_ml_model(village_menu, lowest_prices, competitors_menu):\n",
        "    # Generate synthetic data (replace with real data if available)\n",
        "    X = []\n",
        "    y = []\n",
        "    for _ in range(1000):  # Simulate 1000 data points\n",
        "        temp, weather, busy = simulate_conditions()\n",
        "        for item in village_menu:\n",
        "            lowest_price = lowest_prices[item]\n",
        "            features = [\n",
        "                temp,  # Temperature\n",
        "                int(weather == \"Rain\"),  # Rainy\n",
        "                int(weather == \"Snow\"),  # Snowy\n",
        "                int(busy),  # Busy state\n",
        "            ]\n",
        "            price = adjust_prices_based_on_conditions(\n",
        "                {item: village_menu[item]},\n",
        "                {item: lowest_price},\n",
        "                busy,\n",
        "                temp,\n",
        "                weather,\n",
        "            )[item]\n",
        "            X.append(features)\n",
        "            y.append(price)\n",
        "\n",
        "    # Train-test split\n",
        "    X_train, X_test, y_train, y_test = train_test_split(X, y, test_size=0.2, random_state=42)\n",
        "\n",
        "    # Train model\n",
        "    model = DecisionTreeRegressor()\n",
        "    model.fit(X_train, y_train)\n",
        "\n",
        "    # Test model\n",
        "    predictions = model.predict(X_test)\n",
        "    mse = mean_squared_error(y_test, predictions)\n",
        "    print(f\"Model Mean Squared Error: {mse}\")\n",
        "\n",
        "    return model\n"
      ],
      "metadata": {
        "id": "j36ZYzmWfXbm"
      },
      "execution_count": null,
      "outputs": []
    },
    {
      "cell_type": "code",
      "source": [
        "\n",
        "# Main execution\n",
        "def main():\n",
        "    # Step 1: Find lowest local prices\n",
        "    lowest_prices = get_lowest_prices(village_menu, competitors_menu)\n",
        "    print(\"Lowest competitive prices:\", lowest_prices)\n",
        "\n",
        "    # Step 2: Simulate conditions and adjust prices\n",
        "    temp, weather, busy = simulate_conditions()\n",
        "    print(f\"Simulated conditions - Temperature: {temp}°F, Weather: {weather}, Busy: {busy}\")\n",
        "    adjusted_prices = adjust_prices_based_on_conditions(village_menu, lowest_prices, busy, temp, weather)\n",
        "    print(\"Adjusted prices based on conditions:\", adjusted_prices)\n",
        "\n",
        "    # Step 3: Train ML model and show predictions\n",
        "    model = train_ml_model(village_menu, lowest_prices, competitors_menu)\n",
        "    test_conditions = [45, 1, 0, 1]  # Example test conditions: 45°F, Rainy, Not Snowy, Busy\n",
        "    for item in village_menu:\n",
        "        predicted_price = model.predict([test_conditions])[0]\n",
        "        print(f\"Predicted price for {item}: ${predicted_price:.2f}\")\n",
        "\n",
        "if __name__ == \"__main__\":\n",
        "    main()\n"
      ],
      "metadata": {
        "colab": {
          "base_uri": "https://localhost:8080/"
        },
        "id": "d60vojHpfXyv",
        "outputId": "4bf39d94-ca4e-40ce-cf04-d37222139b6a"
      },
      "execution_count": null,
      "outputs": [
        {
          "output_type": "stream",
          "name": "stdout",
          "text": [
            "Lowest competitive prices: {'Butter Chicken': 14.49, 'Palak Paneer': 11.99, 'Garlic Naan': 2.69, 'Chicken Tikka Masala': 15.99}\n",
            "Simulated conditions - Temperature: 69°F, Weather: Rain, Busy: False\n",
            "Adjusted prices based on conditions: {'Butter Chicken': 17.387999999999998, 'Palak Paneer': 14.388, 'Garlic Naan': 3.2279999999999998, 'Chicken Tikka Masala': 19.188}\n",
            "Model Mean Squared Error: 45.56425036917289\n",
            "Predicted price for Butter Chicken: $12.90\n",
            "Predicted price for Palak Paneer: $12.90\n",
            "Predicted price for Garlic Naan: $12.90\n",
            "Predicted price for Chicken Tikka Masala: $12.90\n"
          ]
        }
      ]
    }
  ]
}