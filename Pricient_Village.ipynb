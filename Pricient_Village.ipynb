{
  "nbformat": 4,
  "nbformat_minor": 0,
  "metadata": {
    "colab": {
      "provenance": [],
      "authorship_tag": "ABX9TyN7OhXFDfmjizLB1J6bw150",
      "include_colab_link": true
    },
    "kernelspec": {
      "name": "python3",
      "display_name": "Python 3"
    },
    "language_info": {
      "name": "python"
    }
  },
  "cells": [
    {
      "cell_type": "markdown",
      "metadata": {
        "id": "view-in-github",
        "colab_type": "text"
      },
      "source": [
        "<a href=\"https://colab.research.google.com/github/vedantichavan/Mini-Tasks-/blob/main/Pricient_Village.ipynb\" target=\"_parent\"><img src=\"https://colab.research.google.com/assets/colab-badge.svg\" alt=\"Open In Colab\"/></a>"
      ]
    },
    {
      "cell_type": "code",
      "execution_count": null,
      "metadata": {
        "id": "kGU2jDT3x-sq"
      },
      "outputs": [],
      "source": [
        "from bs4 import BeautifulSoup\n",
        "import json\n",
        "import random\n",
        "from sklearn.tree import DecisionTreeRegressor\n",
        "from sklearn.model_selection import train_test_split\n",
        "from sklearn.metrics import mean_squared_error\n",
        "import numpy as np"
      ]
    },
    {
      "cell_type": "code",
      "source": [
        "village_menu = {\n",
        "    \"Rasam\": 4.95,\n",
        "    \"Sambhar\": 4.95,\n",
        "    \"Mulligatawny Soup\": 5.49,\n",
        "    \"Garden Soup\": 5.49,\n",
        "    \"Veg Manchow Soup\": 5.95,\n",
        "    \"Tomato Soup\": 5.25,\n",
        "    \"Idly\": 5.95,\n",
        "    \"Mini Idly\": 5.95,\n",
        "    \"Masala Idly\": 7.95,\n",
        "    \"Ghee Fried Idly\": 7.95,\n",
        "    \"Chilli Idly\": 7.95,\n",
        "    \"Medu Vada\": 5.95,\n",
        "    \"Medu Vada in Sambar Bowl\": 5.99,\n",
        "    \"Medu Vada in Rasam Bowl\": 5.99,\n",
        "    \"Dahi Vada\": 4.95\n",
        "}"
      ],
      "metadata": {
        "id": "JEpPgJX9yIK3"
      },
      "execution_count": null,
      "outputs": []
    },
    {
      "cell_type": "code",
      "source": [
        "competitors_menu = [\n",
        "    {\"name\": \"Restaurant A\", \"menu\": {\n",
        "        \"Rasam\": 4.49, \"Sambhar\": 4.79, \"Mulligatawny Soup\": 5.29, \"Garden Soup\": 5.29,\n",
        "        \"Veg Manchow Soup\": 5.79, \"Tomato Soup\": 5.19, \"Idly\": 5.49, \"Mini Idly\": 5.49,\n",
        "        \"Masala Idly\": 7.49, \"Ghee Fried Idly\": 7.49, \"Chilli Idly\": 7.49, \"Medu Vada\": 5.79,\n",
        "        \"Medu Vada in Sambar Bowl\": 5.89, \"Medu Vada in Rasam Bowl\": 5.89, \"Dahi Vada\": 4.79}},\n",
        "    {\"name\": \"Restaurant B\", \"menu\": {\n",
        "        \"Rasam\": 5.19, \"Sambhar\": 4.99, \"Mulligatawny Soup\": 5.59, \"Garden Soup\": 5.59,\n",
        "        \"Veg Manchow Soup\": 6.19, \"Tomato Soup\": 5.49, \"Idly\": 5.99, \"Mini Idly\": 5.99,\n",
        "        \"Masala Idly\": 8.19, \"Ghee Fried Idly\": 8.19, \"Chilli Idly\": 8.19, \"Medu Vada\": 6.19,\n",
        "        \"Medu Vada in Sambar Bowl\": 6.29, \"Medu Vada in Rasam Bowl\": 6.29, \"Dahi Vada\": 5.09}},\n",
        "    {\"name\": \"Restaurant C\", \"menu\": {\n",
        "        \"Rasam\": 5.49, \"Sambhar\": 5.29, \"Mulligatawny Soup\": 5.99, \"Garden Soup\": 5.99,\n",
        "        \"Veg Manchow Soup\": 6.49, \"Tomato Soup\": 5.79, \"Idly\": 6.49, \"Mini Idly\": 6.49,\n",
        "        \"Masala Idly\": 8.49, \"Ghee Fried Idly\": 8.49, \"Chilli Idly\": 8.49, \"Medu Vada\": 6.49,\n",
        "        \"Medu Vada in Sambar Bowl\": 6.59, \"Medu Vada in Rasam Bowl\": 6.59, \"Dahi Vada\": 5.29}}\n",
        "]"
      ],
      "metadata": {
        "id": "cVI9aJiYyIOQ"
      },
      "execution_count": null,
      "outputs": []
    },
    {
      "cell_type": "code",
      "source": [
        "# Part 1 - Find the lowest price for each item\n",
        "def get_lowest_prices(village_menu, competitors_menu):\n",
        "    lowest_prices = {}\n",
        "    for item in village_menu:\n",
        "        # Get lowest price from competitors for each item\n",
        "        lowest_price = min(\n",
        "            restaurant[\"menu\"].get(item, float('inf'))\n",
        "            for restaurant in competitors_menu\n",
        "        )\n",
        "        lowest_prices[item] = lowest_price\n",
        "    return lowest_prices\n",
        "\n",
        "# Part 2 - Adjust prices based on busy times and weather\n",
        "def adjust_prices_based_on_conditions(menu, lowest_prices, is_busy, temperature, weather_condition):\n",
        "    adjusted_prices = {}\n",
        "    for item, base_price in menu.items():\n",
        "        # Adjust conditions\n",
        "        is_cold = temperature < 45\n",
        "        is_bad_weather = weather_condition in [\"Rain\", \"Snow\"]\n",
        "\n",
        "        if is_busy or is_cold or is_bad_weather:\n",
        "            # Higher price if conditions are met\n",
        "            adjusted_prices[item] = lowest_prices[item] * 1.2  # 20% markup\n",
        "        else:\n",
        "            # Set to lowest competitive price\n",
        "            adjusted_prices[item] = lowest_prices[item]\n",
        "    return adjusted_prices"
      ],
      "metadata": {
        "id": "E2HuspkPyQ_U"
      },
      "execution_count": null,
      "outputs": []
    },
    {
      "cell_type": "code",
      "source": [
        "# Simulated weather data and busyness\n",
        "def simulate_conditions():\n",
        "    temperature = random.randint(30, 80)  # Random temperature in Fahrenheit\n",
        "    weather_condition = random.choice([\"Clear\", \"Rain\", \"Snow\"])  # Random weather\n",
        "    is_busy = random.choice([True, False])  # Random busy state\n",
        "    return temperature, weather_condition, is_busy"
      ],
      "metadata": {
        "id": "b9PikGU4yRCT"
      },
      "execution_count": null,
      "outputs": []
    },
    {
      "cell_type": "code",
      "source": [
        "# Part 3 - Machine Learning Pricing Prediction\n",
        "def train_ml_model(village_menu, lowest_prices, competitors_menu):\n",
        "    X = []\n",
        "    y = []\n",
        "    for _ in range(1000):  # Simulate 1000 data points\n",
        "        temp, weather, busy = simulate_conditions()\n",
        "        for item in village_menu:\n",
        "            lowest_price = lowest_prices[item]\n",
        "            base_price = village_menu[item]\n",
        "            features = [\n",
        "                temp,  # Temperature\n",
        "                int(weather == \"Rain\"),  # Rainy\n",
        "                int(weather == \"Snow\"),  # Snowy\n",
        "                int(busy),  # Busy state\n",
        "                lowest_price,  # Lowest competitor price\n",
        "            ]\n",
        "            price = adjust_prices_based_on_conditions(\n",
        "                {item: base_price},\n",
        "                {item: lowest_price},\n",
        "                busy,\n",
        "                temp,\n",
        "                weather,\n",
        "            )[item]\n",
        "            X.append(features)\n",
        "            y.append(price)\n",
        "\n",
        "    X_train, X_test, y_train, y_test = train_test_split(X, y, test_size=0.2, random_state=42)\n",
        "\n",
        "    # Train model with improved tree depth to avoid overfitting or underfitting\n",
        "    model = DecisionTreeRegressor(max_depth=5, random_state=42)\n",
        "    model.fit(X_train, y_train)\n",
        "\n",
        "    # Test model\n",
        "    predictions = model.predict(X_test)\n",
        "    mse = mean_squared_error(y_test, predictions)\n",
        "    print(f\"Model Mean Squared Error: {mse}\")\n",
        "\n",
        "    return model\n"
      ],
      "metadata": {
        "id": "mzAXyCAbyRFe"
      },
      "execution_count": null,
      "outputs": []
    },
    {
      "cell_type": "code",
      "source": [
        "# Main execution\n",
        "def main():\n",
        "    # Find lowest competitive prices\n",
        "    lowest_prices = get_lowest_prices(village_menu, competitors_menu)\n",
        "    print(\"Lowest competitive prices:\", lowest_prices)\n",
        "\n",
        "    # Simulate conditions and adjust prices\n",
        "    temp, weather, busy = simulate_conditions()\n",
        "    print(f\"Simulated conditions - Temperature: {temp}°F, Weather: {weather}, Busy: {busy}\")\n",
        "    adjusted_prices = adjust_prices_based_on_conditions(village_menu, lowest_prices, busy, temp, weather)\n",
        "    print(\"Adjusted prices based on conditions:\", adjusted_prices)\n",
        "\n",
        "    # Train ML model and show predictions\n",
        "    model = train_ml_model(village_menu, lowest_prices, competitors_menu)\n",
        "    test_conditions = [45, 1, 0, 1, 4.49]  # Example test conditions: 45°F, Rainy, Not Snowy, Busy, Lowest Price for Rasam\n",
        "    for item in village_menu:\n",
        "        predicted_price = model.predict([test_conditions])[0]\n",
        "        print(f\"Predicted price for {item}: ${predicted_price:.2f}\")\n",
        "\n",
        "if __name__ == \"__main__\":\n",
        "    main()"
      ],
      "metadata": {
        "id": "xxVbWZMPyerx",
        "outputId": "f3d58a64-a316-42f2-ba50-4336323a2a90",
        "colab": {
          "base_uri": "https://localhost:8080/"
        }
      },
      "execution_count": null,
      "outputs": [
        {
          "output_type": "stream",
          "name": "stdout",
          "text": [
            "Lowest competitive prices: {'Rasam': 4.49, 'Sambhar': 4.79, 'Mulligatawny Soup': 5.29, 'Garden Soup': 5.29, 'Veg Manchow Soup': 5.79, 'Tomato Soup': 5.19, 'Idly': 5.49, 'Mini Idly': 5.49, 'Masala Idly': 7.49, 'Ghee Fried Idly': 7.49, 'Chilli Idly': 7.49, 'Medu Vada': 5.79, 'Medu Vada in Sambar Bowl': 5.89, 'Medu Vada in Rasam Bowl': 5.89, 'Dahi Vada': 4.79}\n",
            "Simulated conditions - Temperature: 54°F, Weather: Clear, Busy: True\n",
            "Adjusted prices based on conditions: {'Rasam': 5.388, 'Sambhar': 5.748, 'Mulligatawny Soup': 6.348, 'Garden Soup': 6.348, 'Veg Manchow Soup': 6.9479999999999995, 'Tomato Soup': 6.228000000000001, 'Idly': 6.588, 'Mini Idly': 6.588, 'Masala Idly': 8.988, 'Ghee Fried Idly': 8.988, 'Chilli Idly': 8.988, 'Medu Vada': 6.9479999999999995, 'Medu Vada in Sambar Bowl': 7.068, 'Medu Vada in Rasam Bowl': 7.068, 'Dahi Vada': 5.748}\n",
            "Model Mean Squared Error: 0.07382790580773102\n",
            "Predicted price for Rasam: $5.39\n",
            "Predicted price for Sambhar: $5.39\n",
            "Predicted price for Mulligatawny Soup: $5.39\n",
            "Predicted price for Garden Soup: $5.39\n",
            "Predicted price for Veg Manchow Soup: $5.39\n",
            "Predicted price for Tomato Soup: $5.39\n",
            "Predicted price for Idly: $5.39\n",
            "Predicted price for Mini Idly: $5.39\n",
            "Predicted price for Masala Idly: $5.39\n",
            "Predicted price for Ghee Fried Idly: $5.39\n",
            "Predicted price for Chilli Idly: $5.39\n",
            "Predicted price for Medu Vada: $5.39\n",
            "Predicted price for Medu Vada in Sambar Bowl: $5.39\n",
            "Predicted price for Medu Vada in Rasam Bowl: $5.39\n",
            "Predicted price for Dahi Vada: $5.39\n"
          ]
        }
      ]
    }
  ]
}